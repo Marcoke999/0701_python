{
 "cells": [
  {
   "cell_type": "code",
   "execution_count": 1,
   "metadata": {},
   "outputs": [
    {
     "name": "stdout",
     "output_type": "stream",
     "text": [
      "Q\n",
      "應用程式結束\n"
     ]
    }
   ],
   "source": [
    "word=input(\"輸入英文小寫\")\n",
    "while word != \"quit\" and word != \"QUIT\":\n",
    "    print(word.upper())\n",
    "    word=input(\"輸入英文小寫\")\n",
    "print(\"應用程式結束\")"
   ]
  },
  {
   "cell_type": "code",
   "execution_count": null,
   "metadata": {},
   "outputs": [],
   "source": []
  },
  {
   "cell_type": "code",
   "execution_count": 1,
   "metadata": {},
   "outputs": [
    {
     "name": "stdout",
     "output_type": "stream",
     "text": [
      "應用程式結束\n"
     ]
    }
   ],
   "source": [
    "while True:\n",
    "    word=input(\"輸入英文字母(輸入quit離開)\")\n",
    "    if  word ==\"quit\" or word ==\"QUIT\":\n",
    "        break\n",
    "    else:\n",
    "        print(word.upper())\n",
    "print(\"應用程式結束\")"
   ]
  },
  {
   "cell_type": "code",
   "execution_count": 15,
   "metadata": {},
   "outputs": [
    {
     "name": "stdout",
     "output_type": "stream",
     "text": [
      "印用城市結束\n"
     ]
    }
   ],
   "source": [
    "while True:\n",
    "    word = input(\"輸入一個數:(q結束)\")\n",
    "    if word ==\"q\":\n",
    "            break\n",
    "    try:\n",
    "        letter=int(word)\n",
    "    except:\n",
    "        print(\"輸入格式錯誤\")\n",
    "        continue\n",
    "    if  not letter %2 ==0:\n",
    "        print(letter**2)\n",
    "    else:\n",
    "         print(letter)\n",
    "print(\"印用城市結束\")\n",
    "\n",
    "\n",
    "        "
   ]
  },
  {
   "cell_type": "code",
   "execution_count": 1,
   "metadata": {},
   "outputs": [
    {
     "data": {
      "text/plain": [
       "2.2191769286209353"
      ]
     },
     "execution_count": 1,
     "metadata": {},
     "output_type": "execute_result"
    }
   ],
   "source": [
    "import random\n",
    "random.uniform(1,10)"
   ]
  },
  {
   "cell_type": "code",
   "execution_count": 27,
   "metadata": {},
   "outputs": [
    {
     "data": {
      "text/plain": [
       "10"
      ]
     },
     "execution_count": 27,
     "metadata": {},
     "output_type": "execute_result"
    }
   ],
   "source": [
    "random.randint(1,10)"
   ]
  },
  {
   "cell_type": "code",
   "execution_count": 7,
   "metadata": {},
   "outputs": [
    {
     "name": "stdout",
     "output_type": "stream",
     "text": [
      "\n",
      "        45\\\\你好\n",
      "        身高是：45公分\n",
      "        體重是：45公斤\n",
      "        BMI:222.22\n",
      "        重度肥胖\n",
      "        \n",
      "輸入格式錯誤請重新輸入\n",
      "輸入格式錯誤請重新輸入\n",
      "輸入格式錯誤請重新輸入\n",
      "\n",
      "        45你好\n",
      "        身高是：45公分\n",
      "        體重是：4公斤\n",
      "        BMI:19.75\n",
      "        體重正常\n",
      "        \n",
      "感謝使用\n"
     ]
    }
   ],
   "source": [
    "#HW6\n",
    "while True:    \n",
    "    \n",
    "    try:\n",
    "       name = input(\"請輸入姓名：\")\n",
    "       height = eval(input(\"請輸入身高(cm)：\"))\n",
    "       weight = eval(input(\"請輸入體重(kg)：\"))\n",
    "    except:\n",
    "        print(\"輸入格式錯誤請重新輸入\")\n",
    "        continue  \n",
    "    else:\n",
    "        bmi = weight/(height/100) ** 2\n",
    "        if bmi >= 35:\n",
    "            status = '重度肥胖'\n",
    "        elif bmi >= 30:\n",
    "            status = '中度肥胖'\n",
    "        elif bmi >= 27:\n",
    "            status = '輕度肥胖'\n",
    "        elif bmi >= 24:\n",
    "            status = '體重過重'\n",
    "        elif bmi >= 18.5:\n",
    "            status = '體重正常'\n",
    "        else:\n",
    "            status = '體重過輕'\n",
    "        print(f\"\"\"\n",
    "        {name}你好\n",
    "        身高是：{height}公分\n",
    "        體重是：{weight}公斤\n",
    "        BMI:{round(bmi,ndigits=2)}\n",
    "        {status}\n",
    "        \"\"\")\n",
    "    stop = str(input(\"任意建繼續使用or輸入\\\"quit\\\"或\\\"QUIT\\\"結束\"))\n",
    "    if stop == \"quit\" or stop == \"QUIT\":\n",
    "        break\n",
    "    else:\n",
    "        continue\n",
    "print(\"感謝使用\")\n"
   ]
  },
  {
   "cell_type": "code",
   "execution_count": 24,
   "metadata": {},
   "outputs": [
    {
     "name": "stdout",
     "output_type": "stream",
     "text": [
      "80 90 100\n"
     ]
    }
   ],
   "source": [
    "(chinese,english,math)=(80,90,100)\n",
    "print(chinese,english,math)"
   ]
  },
  {
   "cell_type": "code",
   "execution_count": 25,
   "metadata": {},
   "outputs": [
    {
     "name": "stdout",
     "output_type": "stream",
     "text": [
      "70 50 60\n"
     ]
    }
   ],
   "source": [
    "chinese,english,math=70,50,60\n",
    "print(chinese,english,math)"
   ]
  },
  {
   "cell_type": "code",
   "execution_count": 29,
   "metadata": {},
   "outputs": [
    {
     "data": {
      "text/plain": [
       "80"
      ]
     },
     "execution_count": 29,
     "metadata": {},
     "output_type": "execute_result"
    }
   ],
   "source": [
    "point=[80,90,97]\n",
    "point[0]"
   ]
  },
  {
   "cell_type": "code",
   "execution_count": 3,
   "metadata": {},
   "outputs": [
    {
     "name": "stdout",
     "output_type": "stream",
     "text": [
      "===========猜數字遊戲============\n",
      "\n",
      "再小一點\n",
      "您已經猜了1次\n",
      "再大一點\n",
      "您已經猜了2次\n",
      "再小一點\n",
      "您已經猜了3次\n",
      "再小一點\n",
      "您已經猜了4次\n",
      "再大一點\n",
      "您已經猜了5次\n",
      "再大一點\n",
      "您已經猜了6次\n",
      "再大一點\n",
      "您已經猜了7次\n",
      "再小一點\n",
      "您已經猜了8次\n",
      "賓果!猜對了, 答案是:33\n",
      "您猜了9次\n",
      "應用程式結束\n"
     ]
    }
   ],
   "source": [
    "#HW7\n",
    "import random\n",
    "while True:\n",
    "    min = 1\n",
    "    max = 3\n",
    "    target = random.randint(min, max)\n",
    "    print(\"===========猜數字遊戲============\\n\")\n",
    "    count = 0\n",
    "\n",
    "    while True:\n",
    "        \n",
    "        try:\n",
    "            keyin = int(input(f\"猜數字範圍{min}~{max}:\"))\n",
    "\n",
    "        except:\n",
    "            print(\"格式錯誤\")     # 輸入錯誤不算次數\n",
    "            continue\n",
    "\n",
    "        if keyin < min or keyin > max:\n",
    "            print(\"超過範圍\")        \n",
    "            continue\n",
    "        count += 1\n",
    "        \n",
    "\n",
    "        if keyin == target:\n",
    "            print(f\"賓果!猜對了, 答案是:{keyin}\")\n",
    "            print(f\"您猜了{count}次\")\n",
    "            break\n",
    "        elif keyin > target:\n",
    "            print(\"再小一點\")\n",
    "            max = keyin - 1\n",
    "            \n",
    "        elif keyin < target:\n",
    "            print(\"再大一點\")\n",
    "            min = keyin + 1\n",
    "        print(f\"您已經猜了{count}次\")   \n",
    "    \n",
    "    play = str(input(\"是否繼續(y/n)\"))\n",
    "    if play == \"n\":\n",
    "        break\n",
    "    else:\n",
    "        continue    \n",
    "print(\"應用程式結束\")\n"
   ]
  },
  {
   "cell_type": "code",
   "execution_count": 2,
   "metadata": {},
   "outputs": [
    {
     "name": "stdout",
     "output_type": "stream",
     "text": [
      "===========猜數字遊戲============\n",
      "\n",
      "再大一點\n",
      "已經猜了1次了\n",
      "恭喜答對!!猜的總次數為:2次\n",
      "try again\n",
      "try again\n",
      "try again\n",
      "try again\n",
      "try again\n",
      "try again\n",
      "try again\n",
      "try again\n",
      "try again\n",
      "try again\n",
      "try again\n",
      "感謝遊玩\n"
     ]
    }
   ],
   "source": [
    "import random\n",
    "while True:\n",
    "    min = 1\n",
    "    max = 3\n",
    "    target = random.randint(min, max)\n",
    "    print(\"===========猜數字遊戲============\\n\")\n",
    "    count = 0\n",
    "\n",
    "    while True:\n",
    "        user_input = input(f\"猜數字範圍{min}~{max}或按結束:\")\n",
    "        if user_input==\"q\":\n",
    "            break\n",
    "        try:\n",
    "            guest =int(input(f\"猜數字範圍{min}~{max}:\"))\n",
    "\n",
    "            \n",
    "        except ValueError:\n",
    "            print(\"輸入格式錯誤請重新輸入\")\n",
    "            continue\n",
    "        if guest < min or guest >max:\n",
    "            print(\"輸入超出範圍\")\n",
    "            continue\n",
    "        \n",
    "        count+=1\n",
    "        if guest >target:\n",
    "            print(\"小一點\")\n",
    "            print(f\"已經猜了{count}次了\")\n",
    "            max = guest-1\n",
    "        elif  guest< target:\n",
    "            print(\"再大一點\")\n",
    "            print(f\"已經猜了{count}次了\")\n",
    "            min = guest+1\n",
    "        elif guest==target:\n",
    "            print(f\"恭喜答對!!猜的總次數為:{count}次\")\n",
    "   \n",
    "            break\n",
    "    while True:\n",
    "        x=input(\"escape press q, continue press c\")\n",
    "        if x!= \"q\" and x!=\"c\":\n",
    "            print(\"try again\")\n",
    "            continue\n",
    "        else:\n",
    "            break\n",
    "    if x==\"q\":\n",
    "        break\n",
    "print(\"感謝遊玩\")\n",
    "\n",
    "\n"
   ]
  }
 ],
 "metadata": {
  "kernelspec": {
   "display_name": "Python 3",
   "language": "python",
   "name": "python3"
  },
  "language_info": {
   "codemirror_mode": {
    "name": "ipython",
    "version": 3
   },
   "file_extension": ".py",
   "mimetype": "text/x-python",
   "name": "python",
   "nbconvert_exporter": "python",
   "pygments_lexer": "ipython3",
   "version": "3.11.9"
  }
 },
 "nbformat": 4,
 "nbformat_minor": 2
}
