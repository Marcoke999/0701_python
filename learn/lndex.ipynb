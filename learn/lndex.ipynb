{
 "cells": [
  {
   "cell_type": "code",
   "execution_count": 9,
   "metadata": {},
   "outputs": [
    {
     "name": "stdout",
     "output_type": "stream",
     "text": [
      "徐國堂你好\n",
      "身高是：153公分\n",
      "體重是：78公斤\n",
      "BMI:33.32\n",
      "中度肥胖\n",
      "=============\n",
      "robert你好\n",
      "身高是：174公分\n",
      "體重是：90公斤\n",
      "BMI:29.73\n",
      "輕度肥胖\n",
      "===========\n",
      "alice你好\n",
      "身高是：188公分\n",
      "體重是：66公斤\n",
      "BMI:18.67\n",
      "體重正常\n"
     ]
    }
   ],
   "source": [
    "import learning\n",
    "\n",
    "def main():\n",
    "    p1 = learning.getPerson(name=\"徐國堂\") #module function\n",
    "    print(p1.bmi_print())\n",
    "    print(\"=============\")\n",
    "    p2 = learning.getPerson(name=\"robert\") #class static method\n",
    "    print(p2.bmi_print())\n",
    "    print(\"===========\")\n",
    "    p3 = learning.getPerson(name=\"alice\")\n",
    "    print(p3.bmi_print())\n",
    "\n",
    "if __name__ == '__main__':\n",
    "    main()"
   ]
  }
 ],
 "metadata": {
  "kernelspec": {
   "display_name": "Python 3",
   "language": "python",
   "name": "python3"
  },
  "language_info": {
   "codemirror_mode": {
    "name": "ipython",
    "version": 3
   },
   "file_extension": ".py",
   "mimetype": "text/x-python",
   "name": "python",
   "nbconvert_exporter": "python",
   "pygments_lexer": "ipython3",
   "version": "3.11.9"
  }
 },
 "nbformat": 4,
 "nbformat_minor": 2
}
