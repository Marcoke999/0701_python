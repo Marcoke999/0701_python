{
 "cells": [
  {
   "cell_type": "code",
   "execution_count": 8,
   "metadata": {},
   "outputs": [
    {
     "name": "stdout",
     "output_type": "stream",
     "text": [
      "False\n",
      "True\n",
      "False\n",
      "True\n"
     ]
    }
   ],
   "source": [
    "print(3>5)\n",
    "print(5>3)\n",
    "print(5==3)\n",
    "print(5!=3)"
   ]
  },
  {
   "cell_type": "code",
   "execution_count": 5,
   "metadata": {},
   "outputs": [
    {
     "data": {
      "text/plain": [
       "'0b10110'"
      ]
     },
     "execution_count": 5,
     "metadata": {},
     "output_type": "execute_result"
    }
   ],
   "source": [
    "bin(22)"
   ]
  },
  {
   "cell_type": "code",
   "execution_count": 14,
   "metadata": {},
   "outputs": [
    {
     "name": "stdout",
     "output_type": "stream",
     "text": [
      "你好老\n",
      "\n",
      "去洗碗\n"
     ]
    }
   ],
   "source": [
    "age=eval(input(\"輸入你的年齡:\"))\n",
    "if age>=60:\n",
    "    print(\"你好老\")\n",
    "elif age >= 40:\n",
    "    print(\"你還好\")\n",
    "else:\n",
    "    print(\"年輕人\")\n",
    "print(\"去洗碗\")"
   ]
  },
  {
   "cell_type": "code",
   "execution_count": 18,
   "metadata": {},
   "outputs": [
    {
     "name": "stdout",
     "output_type": "stream",
     "text": [
      "could not convert string to float: '100a'\n"
     ]
    }
   ],
   "source": [
    "try:\n",
    "    score=float(input(\"輸入學生成績:(滿分100)\"))\n",
    "\n",
    "    if score >100:\n",
    "        raise ValueError(\"輸入值要小於100\")\n",
    "    if score < 0:\n",
    "        raise ValueError(\"輸入要大於0\")    \n",
    "    is_add=input(\"是否符合加分條件:(y/n)\")\n",
    "    \n",
    "    \n",
    "    if is_add == \"y\": \n",
    "        score*=1.05\n",
    "        print(f\"{score:.2f}\")\n",
    "    else:\n",
    "        print(score)\n",
    "\n",
    "except Exception as error:\n",
    "    print(error)"
   ]
  },
  {
   "cell_type": "code",
   "execution_count": 2,
   "metadata": {},
   "outputs": [
    {
     "name": "stdout",
     "output_type": "stream",
     "text": [
      "invalid literal for int() with base 10: '999aa'\n"
     ]
    }
   ],
   "source": [
    "#HW2\n",
    "try:\n",
    "    number=int(input(\"請輸入一個整數\"))\n",
    "    \n",
    "    if number //2 ==0:\n",
    "        print(f\"輸入{number}為偶數\")\n",
    "    else:\n",
    "        print(f\"輸入{number}為質數\")\n",
    "    if number < 0:\n",
    "        print(f\"輸入{number}為負數\")\n",
    "    elif number > 0:\n",
    "        print(f\"輸入{number}為正數\")\n",
    "    else:\n",
    "        print(f\"輸入為0\")\n",
    "except Exception as error:\n",
    "    print(error)"
   ]
  }
 ],
 "metadata": {
  "kernelspec": {
   "display_name": "Python 3",
   "language": "python",
   "name": "python3"
  },
  "language_info": {
   "codemirror_mode": {
    "name": "ipython",
    "version": 3
   },
   "file_extension": ".py",
   "mimetype": "text/x-python",
   "name": "python",
   "nbconvert_exporter": "python",
   "pygments_lexer": "ipython3",
   "version": "3.11.9"
  }
 },
 "nbformat": 4,
 "nbformat_minor": 2
}
