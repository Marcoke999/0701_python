{
 "cells": [
  {
   "cell_type": "code",
   "execution_count": 1,
   "metadata": {},
   "outputs": [
    {
     "name": "stdout",
     "output_type": "stream",
     "text": [
      "sd\n"
     ]
    }
   ],
   "source": [
    "import pyinputplus as pyip\n",
    "name = pyip.inputStr(\"\")\n",
    "print(name)"
   ]
  },
  {
   "cell_type": "code",
   "execution_count": 1,
   "metadata": {},
   "outputs": [
    {
     "name": "stdout",
     "output_type": "stream",
     "text": [
      "<class '__main__.person'>\n"
     ]
    }
   ],
   "source": [
    "#class person():\n",
    "    #def __init__(self): 規定要這樣寫\n",
    "class person():\n",
    "    def __init__(self):\n",
    "        pass\n",
    "p1=person()\n",
    "\n",
    "print(type(p1))\n",
    "\n",
    "p2=person()"
   ]
  },
  {
   "cell_type": "code",
   "execution_count": 29,
   "metadata": {},
   "outputs": [
    {
     "name": "stdout",
     "output_type": "stream",
     "text": [
      "請輸入姓名：\n",
      "請輸入身高(cm)\n",
      "：請輸入體重(kg)\n",
      "：dd你好\n",
      "身高是：176公分\n",
      "體重是：63公斤\n",
      "BMI:20.34\n",
      "體重正常\n"
     ]
    }
   ],
   "source": [
    "#HW9\n",
    "import pyinputplus as pyip\n",
    "\n",
    "\n",
    "\n",
    " \n",
    "class Person():\n",
    "    def __init__(my,name:str,height:int,weight:int):\n",
    "        my.name = name\n",
    "        my.height = height\n",
    "        my.weight = weight\n",
    "\n",
    "    def getBMI(my):\n",
    "        return my.weight/(my.height/100) ** 2\n",
    "    \n",
    "    def get_status(my):\n",
    "        if my.getBMI()>= 35:\n",
    "            return '重度肥胖'\n",
    "        \n",
    "        elif my.getBMI()>= 30:\n",
    "            return '中度肥胖'\n",
    "        \n",
    "        elif my.getBMI()>= 27:\n",
    "            return '輕度肥胖'\n",
    "        \n",
    "        elif my.getBMI()>= 24:\n",
    "            return '體重過重'\n",
    "        \n",
    "        elif my.getBMI()>= 18.5:\n",
    "            return '體重正常'\n",
    "        \n",
    "        else :\n",
    "            return '體重過輕'\n",
    "\n",
    "n = pyip.inputStr(\"請輸入姓名：\\n\")\n",
    "h = pyip.inputNum(\"請輸入身高(cm):\\n\")\n",
    "w = pyip.inputNum(\"請輸入體重(kg):\\n\")\n",
    "\n",
    "\n",
    "someone = Person(n,h,w)\n",
    "\n",
    "print(f\"\"\"{someone.name}你好\n",
    "身高是：{someone.height}公分\n",
    "體重是：{someone.weight}公斤\n",
    "BMI:{round(someone.getBMI(),ndigits=2)}\n",
    "{someone.get_status()}\"\"\")"
   ]
  },
  {
   "cell_type": "code",
   "execution_count": 9,
   "metadata": {},
   "outputs": [
    {
     "name": "stdout",
     "output_type": "stream",
     "text": [
      "請輸入姓名：\n",
      "請輸入身高(cm):\n",
      "請輸入體重(kg):\n",
      "ㄎdd你好\n",
      "身高是：176公分\n",
      "體重是：63公斤\n",
      "BMI:20.34\n",
      "體重正常\n"
     ]
    }
   ],
   "source": [
    "#HW9\n",
    "import pyinputplus as pyip\n",
    "\n",
    "\n",
    "\n",
    " \n",
    "class Person():\n",
    "    def __init__(my,name:str,height:int,weight:int):\n",
    "        my.name = name\n",
    "        my.height = height\n",
    "        my.weight = weight\n",
    "\n",
    "    def getBMI(my):\n",
    "        return my.weight/(my.height/100) ** 2\n",
    "        \n",
    "    def get_status(my):\n",
    "        if my.getBMI()>= 35:\n",
    "            return'重度肥胖'\n",
    "    \n",
    "        elif my.getBMI()>= 30:\n",
    "            return '中度肥胖'\n",
    "        \n",
    "        elif my.getBMI()>= 27:\n",
    "            return '輕度肥胖'\n",
    "        \n",
    "        elif my.getBMI()>= 24:\n",
    "            return '體重過重'\n",
    "        \n",
    "        elif my.getBMI()>= 18.5:\n",
    "            return '體重正常'\n",
    "        \n",
    "        else :\n",
    "            return '體重過輕'\n",
    "\n",
    "n = pyip.inputStr(\"請輸入姓名：\\n\")\n",
    "h = pyip.inputNum(\"請輸入身高(cm):\\n\")\n",
    "w = pyip.inputNum(\"請輸入體重(kg):\\n\")\n",
    "\n",
    "\n",
    "someone = Person(n,h,w)\n",
    "\n",
    "print(f\"\"\"{someone.name}你好\n",
    "身高是：{someone.height}公分\n",
    "體重是：{someone.weight}公斤\n",
    "BMI:{round(someone.getBMI(),ndigits=2)}\n",
    "{someone.get_status()}\"\"\")"
   ]
  },
  {
   "cell_type": "code",
   "execution_count": 14,
   "metadata": {},
   "outputs": [
    {
     "name": "stdout",
     "output_type": "stream",
     "text": [
      "輸入你的姓名:\n",
      "輸入思考速度:(0~5))\n",
      "Number must be at maximum 5.\n",
      "輸入思考速度:(0~5))\n",
      "輸入你的做事速度:\n",
      "(0~5)哈囉jj\n",
      "      你的思考是速度為一般人的0.2倍\n",
      "      你的做事速度為一般人的1.6倍\n",
      "      你的智商計算結果為0.12\n",
      "      所以你是個重度智障\n"
     ]
    }
   ],
   "source": [
    "#test\n",
    "import pyinputplus as pyip\n",
    "class person():\n",
    "    def __init__(self,name:str,think_fast:int,do_fast:int):\n",
    "        self.name = name\n",
    "        self.think_fast = think_fast\n",
    "        self.do_fast = do_fast\n",
    "    def get_IQ(self):\n",
    "        return self.think_fast/self.do_fast\n",
    "    \n",
    "    def smart_level(self):\n",
    "        if self.get_IQ()>1.5:\n",
    "            return \"天才\"\n",
    "        elif self.get_IQ()>1.2:\n",
    "            return \"正常人\"\n",
    "        elif self.get_IQ()>0.8:\n",
    "            return\"輕度智障\"\n",
    "        else:\n",
    "            return\"重度智障\"\n",
    "n= pyip.inputStr(\"輸入你的姓名:\\n\")\n",
    "think = pyip.inputNum(\"輸入思考速度:(0~5))\\n\",min=0,max=5)\n",
    "do = pyip.inputNum(\"輸入你的做事速度:\\n(0~5)\",min=0,max=5)      \n",
    "\n",
    "your_IQ=person(n,think,do)\n",
    "\n",
    "print(f\"\"\"哈囉{your_IQ.name}\n",
    "      你的思考是速度為一般人的{your_IQ.think_fast}倍\n",
    "      你的做事速度為一般人的{your_IQ.do_fast}倍\n",
    "      你的智商計算結果為{round(your_IQ.get_IQ(),2)}\n",
    "      所以你是個{your_IQ.smart_level()}\"\"\") "
   ]
  },
  {
   "cell_type": "code",
   "execution_count": null,
   "metadata": {},
   "outputs": [],
   "source": [
    "#限制上下限\n",
    "import pyinputplus as pyip\n",
    "height = pyip.inputNum(\"輸入身高\",min=120,max=250)"
   ]
  },
  {
   "cell_type": "code",
   "execution_count": 4,
   "metadata": {},
   "outputs": [
    {
     "name": "stdout",
     "output_type": "stream",
     "text": [
      "輸入是否繼續[y/n]遊戲繼續\n",
      "輸入是否繼續[y/n]遊戲繼續\n",
      "輸入是否繼續[y/n]遊戲繼續\n",
      "輸入是否繼續[y/n]遊戲結束\n",
      "感謝遊玩\n"
     ]
    }
   ],
   "source": [
    "#pyip.inputYesNo輸出結果會是yes no\n",
    "import pyinputplus as pyip\n",
    "while True:\n",
    "    again = pyip.inputYesNo(\"輸入是否繼續[y/n]\")\n",
    "    if again ==\"yes\":\n",
    "        print(\"遊戲繼續\")\n",
    "        continue\n",
    "    elif again ==\"no\":\n",
    "        print(\"遊戲結束\")\n",
    "        break\n",
    "print(\"感謝遊玩\")"
   ]
  },
  {
   "cell_type": "code",
   "execution_count": 1,
   "metadata": {},
   "outputs": [
    {
     "name": "stdout",
     "output_type": "stream",
     "text": [
      "請輸入選擇:\n",
      "A. 色違\n",
      "B. 100\n",
      "C. 色違100\n"
     ]
    },
    {
     "data": {
      "text/plain": [
       "'色違'"
      ]
     },
     "execution_count": 1,
     "metadata": {},
     "output_type": "execute_result"
    }
   ],
   "source": [
    "# 變成選項lettered=True ,numbered=True #yip.inputMenu讓使用者有選項後print使用者的輸入\n",
    "import pyinputplus as pyip\n",
    "pyip.inputMenu([\"色違\",\"100\",\"色違100\"],\"請輸入選擇:\\n\",lettered=True)\n"
   ]
  }
 ],
 "metadata": {
  "kernelspec": {
   "display_name": "Python 3",
   "language": "python",
   "name": "python3"
  },
  "language_info": {
   "codemirror_mode": {
    "name": "ipython",
    "version": 3
   },
   "file_extension": ".py",
   "mimetype": "text/x-python",
   "name": "python",
   "nbconvert_exporter": "python",
   "pygments_lexer": "ipython3",
   "version": "3.11.9"
  }
 },
 "nbformat": 4,
 "nbformat_minor": 2
}
