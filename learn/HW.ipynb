{
 "cells": [
  {
   "cell_type": "code",
   "execution_count": null,
   "metadata": {},
   "outputs": [],
   "source": [
    "#HW1 clear\n",
    "name= input(\"輸入姓名:\")\n",
    "height = eval(input(\"輸入身高:\"))\n",
    "weight = eval(input(\"輸入體重:\"))\n",
    "bmi = weight / (height/100)**2\n",
    "\n",
    "print(f\"\"\"你的名為:{name}\n",
    "體重為{weight}\n",
    "身高為{height}\n",
    "BMI是:{round(bmi,ndigits=2)}\"\"\")"
   ]
  },
  {
   "cell_type": "code",
   "execution_count": 4,
   "metadata": {},
   "outputs": [
    {
     "name": "stdout",
     "output_type": "stream",
     "text": [
      "輸入格式錯誤\n"
     ]
    }
   ],
   "source": [
    "#HW2 clear\n",
    "try:\n",
    "    number= int(input(\"輸入一個數字:\"))\n",
    "    if number %2 == 0:\n",
    "        print(\"輸入為偶數\")\n",
    "    else:\n",
    "        print(\"輸入為基數\")\n",
    "    if number>0:\n",
    "        print(\"輸入為正數\")\n",
    "    elif number <0:\n",
    "        print(\"輸入為負數\")\n",
    "    else:\n",
    "        print(\"輸入為0\")\n",
    "except ValueError:\n",
    "    print(\"輸入格式錯誤\")\n",
    "\n"
   ]
  },
  {
   "cell_type": "code",
   "execution_count": 9,
   "metadata": {},
   "outputs": [
    {
     "name": "stdout",
     "output_type": "stream",
     "text": [
      "你的名為:78\n",
      "體重為58\n",
      "身高為176\n",
      "BMI是:18.72\n",
      "體重過輕\n"
     ]
    }
   ],
   "source": [
    "#HW3 clear\n",
    "name= input(\"輸入姓名:\")\n",
    "height = eval(input(\"輸入身高:\"))\n",
    "weight = eval(input(\"輸入體重:\"))\n",
    "bmi = weight / (height/100)**2\n",
    "\n",
    "print(f\"\"\"你的名為:{name}\n",
    "體重為{weight}\n",
    "身高為{height}\n",
    "BMI是:{round(bmi,ndigits=2)}\"\"\")\n",
    "\n",
    "if bmi >=28.5:\n",
    "    condition=print(\"體重過重\")\n",
    "if bmi >=25.5:\n",
    "    condition=print(\"體重輕度過重\")\n",
    "if bmi >=20.5:\n",
    "    condition=print(\"體種正常\")\n",
    "else:\n",
    "    condition=print(\"體重過輕\")\n",
    "\n"
   ]
  },
  {
   "cell_type": "code",
   "execution_count": 8,
   "metadata": {},
   "outputs": [
    {
     "name": "stdout",
     "output_type": "stream",
     "text": [
      "請輸入2數,求2數公因數:\n",
      "n的因數有:\n",
      "\n",
      "\n",
      "\n",
      "\n",
      "25,m的因數有:\n",
      "\n",
      "1,5,公因數有:\n",
      "1,5,"
     ]
    }
   ],
   "source": [
    "#HW4 clear\n",
    "print(\"請輸入2數,求2數公因數:\")\n",
    "n = int(input('請輸入第1個數:'))\n",
    "m = int(input('請輸入第2個數:'))\n",
    "\n",
    "print(\"n的因數有:\\n\")\n",
    "for i in range(1, n+1):\n",
    "    if n % i ==0:\n",
    "        print()\n",
    "print(i,end=\",\")\n",
    "\n",
    "    \n",
    "print(\"m的因數有:\\n\")      \n",
    "for k in range(1,m+1):\n",
    "    if m % k == 0:\n",
    "        print(k,end=\",\")\n",
    "\n",
    "\n",
    "print(\"公因數有:\")\n",
    "for i in range(1,min(i,k)+1):\n",
    "    if n%i==0 and m%i ==0:\n",
    "        print(i,end=\",\")"
   ]
  },
  {
   "cell_type": "code",
   "execution_count": 28,
   "metadata": {},
   "outputs": [
    {
     "name": "stdout",
     "output_type": "stream",
     "text": [
      "\n",
      "    ty你好\n",
      "    身高是：456公分\n",
      "    體重是：54公斤\n",
      "    BMI:2.6\n",
      "    體重過輕\n",
      "    \n",
      "try again\n",
      "感謝使用\n"
     ]
    }
   ],
   "source": [
    "#HW5\n",
    "while True:  \n",
    "    try:\n",
    "        name = input(\"請輸入姓名：\")\n",
    "        height = eval(input(\"請輸入身高(cm)：\"))\n",
    "        weight = eval(input(\"請輸入體重(kg)：\"))\n",
    "    except:\n",
    "        print(\"輸入格式錯誤\")\n",
    "        continue\n",
    "    else:\n",
    "        bmi = weight/(height/100) ** 2\n",
    "        if bmi >= 35:\n",
    "            status = '重度肥胖'\n",
    "        elif bmi >= 30:\n",
    "            status = '中度肥胖'\n",
    "        elif bmi >= 27:\n",
    "            status = '輕度肥胖'\n",
    "        elif bmi >= 24:\n",
    "            status = '體重過重'\n",
    "        elif bmi >= 18.5:\n",
    "            status = '體重正常'\n",
    "        else:\n",
    "            status = '體重過輕'\n",
    "\n",
    "    print(f\"\"\"\n",
    "    {name}你好\n",
    "    身高是：{height}公分\n",
    "    體重是：{weight}公斤\n",
    "    BMI:{round(bmi,ndigits=2)}\n",
    "    {status}\n",
    "    \"\"\")\n",
    "    while True:\n",
    "        x=input(\"escape press q, continue press c\")\n",
    "        if x!= \"q\" and x!=\"c\":\n",
    "            print(\"try again\")\n",
    "            continue\n",
    "        else:\n",
    "            break\n",
    "    if x==\"q\":\n",
    "        break\n",
    "print(\"感謝使用\")"
   ]
  },
  {
   "cell_type": "code",
   "execution_count": 1,
   "metadata": {},
   "outputs": [
    {
     "name": "stdout",
     "output_type": "stream",
     "text": [
      "===========猜數字遊戲============\n",
      "\n",
      "格式錯誤\n",
      "超過範圍\n",
      "超過範圍\n",
      "賓果!猜對了, 答案是:1\n",
      "您猜了3次\n",
      "===========猜數字遊戲============\n",
      "\n",
      "格式錯誤\n",
      "再小一點\n",
      "您已經猜了1次\n",
      "賓果!猜對了, 答案是:1\n",
      "您猜了2次\n",
      "===========猜數字遊戲============\n",
      "\n"
     ]
    }
   ],
   "source": [
    "#HW6\n",
    "import random\n",
    "while True:\n",
    "    min = 1\n",
    "    max = 3\n",
    "    target = random.randint(min, max)\n",
    "    print(\"===========猜數字遊戲============\\n\")\n",
    "    count = 0\n",
    "\n",
    "    while True:\n",
    "        user_input = input(f\"猜數字範圍{min}~{max}或按結束:\")\n",
    "        if user_input==\"q\":\n",
    "            break\n",
    "        try:\n",
    "            guest =int(input(f\"猜數字範圍{min}~{max}:\"))\n",
    "\n",
    "            \n",
    "        except ValueError:\n",
    "            print(\"輸入格式錯誤請重新輸入\")\n",
    "            continue\n",
    "        if guest < min or guest >max:\n",
    "            print(\"輸入超出範圍\")\n",
    "            continue\n",
    "        \n",
    "        count+=1\n",
    "        if guest >target:\n",
    "            print(\"小一點\")\n",
    "            print(f\"已經猜了{count}次了\")\n",
    "            max = guest-1\n",
    "        elif  guest< target:\n",
    "            print(\"再大一點\")\n",
    "            print(f\"已經猜了{count}次了\")\n",
    "            min = guest+1\n",
    "        elif guest==target:\n",
    "            print(f\"恭喜答對!!猜的總次數為:{count}次\")\n",
    "   \n",
    "            break\n",
    "    while True:\n",
    "        x=input(\"escape press q, continue press c\")\n",
    "        if x!= \"q\" and x!=\"c\":\n",
    "            print(\"try again\")\n",
    "            continue\n",
    "        else:\n",
    "            break\n",
    "    if x==\"q\":\n",
    "        break\n",
    "print(\"感謝遊玩\")\n"
   ]
  }
 ],
 "metadata": {
  "kernelspec": {
   "display_name": "Python 3",
   "language": "python",
   "name": "python3"
  },
  "language_info": {
   "codemirror_mode": {
    "name": "ipython",
    "version": 3
   },
   "file_extension": ".py",
   "mimetype": "text/x-python",
   "name": "python",
   "nbconvert_exporter": "python",
   "pygments_lexer": "ipython3",
   "version": "3.11.9"
  }
 },
 "nbformat": 4,
 "nbformat_minor": 2
}
