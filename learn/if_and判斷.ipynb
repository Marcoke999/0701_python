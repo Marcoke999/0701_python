{
 "cells": [
  {
   "cell_type": "code",
   "execution_count": 1,
   "metadata": {},
   "outputs": [
    {
     "name": "stdout",
     "output_type": "stream",
     "text": [
      "你好爛\n",
      "成績分析完畢\n"
     ]
    }
   ],
   "source": [
    "score = int(input(\"請輸入分數(滿分100:)\"))\n",
    "try:\n",
    "    if score > 100:\n",
    "        print(\"你唬爛\")\n",
    "    elif score >= 90:\n",
    "        print(\"優等\")\n",
    "    elif score >=80:\n",
    "        print(\"甲等\")\n",
    "    elif score >=70:\n",
    "        print(\"乙等\")\n",
    "    elif score>=60:\n",
    "        print(\"丙等\")\n",
    "    else:\n",
    "        print(\"你好爛\")\n",
    "except Exception as error:\n",
    "    print(error)\n",
    "print(\"成績分析完畢\")"
   ]
  },
  {
   "cell_type": "code",
   "execution_count": null,
   "metadata": {},
   "outputs": [],
   "source": [
    "is_add = input(\"輸入是否加分\")\n",
    "if not is_add==\"y\":\n",
    "    print(\"不加分\")\n",
    "else:\n",
    "    print(\"加分\")"
   ]
  },
  {
   "cell_type": "code",
   "execution_count": 8,
   "metadata": {},
   "outputs": [
    {
     "name": "stdout",
     "output_type": "stream",
     "text": [
      "柯你好\n",
      "你的身高為176.0\n",
      "體重為63.0\n",
      "BMI:20.34\n",
      "體重正常\n",
      "測驗結束\n"
     ]
    }
   ],
   "source": [
    "#HW3\n",
    "try:\n",
    "    name=input(\"輸入姓名:\")\n",
    "    h=float(input(\"輸入身高:(cm)\"))\n",
    "    w=float(input(\"輸入體重:(kg)\"))\n",
    "    BMI=w/(h/100)**2\n",
    "\n",
    "\n",
    "    print(f\"{name}你好\\n你的身高為{h}\\n體重為{w}\\nBMI:{BMI:.2f}\")\n",
    "\n",
    "    if BMI > 24:\n",
    "        print(\"體重過重\")\n",
    "    elif BMI < 18.5:\n",
    "        print(\"體重過輕\")\n",
    "    else:\n",
    "        print(\"體重正常\")\n",
    "except Exception as error:\n",
    "    print(error)\n",
    "print(\"測驗結束\")\n"
   ]
  },
  {
   "cell_type": "code",
   "execution_count": 13,
   "metadata": {},
   "outputs": [
    {
     "name": "stdout",
     "output_type": "stream",
     "text": [
      "55\n"
     ]
    }
   ],
   "source": [
    "sum=0\n",
    "for i in range(0,11):\n",
    "    sum+=i\n",
    "print(sum)"
   ]
  },
  {
   "cell_type": "code",
   "execution_count": 17,
   "metadata": {},
   "outputs": [
    {
     "data": {
      "text/plain": [
       "10.0"
      ]
     },
     "execution_count": 17,
     "metadata": {},
     "output_type": "execute_result"
    }
   ],
   "source": [
    "import math\n",
    "math.sqrt(100)\n"
   ]
  },
  {
   "cell_type": "code",
   "execution_count": 18,
   "metadata": {},
   "outputs": [
    {
     "name": "stdout",
     "output_type": "stream",
     "text": [
      "950\n"
     ]
    }
   ],
   "source": [
    "sum =0\n",
    "for i in range(0,100,5):\n",
    "    sum+= i\n",
    "print(sum)"
   ]
  },
  {
   "cell_type": "code",
   "execution_count": 23,
   "metadata": {},
   "outputs": [
    {
     "name": "stdout",
     "output_type": "stream",
     "text": [
      "1 2 4 5 8 10 20 25 40 50 100 125 200 250 500 1000 "
     ]
    }
   ],
   "source": [
    "nums = int(input(\"請輸入整數,求所有的因數:\"))\n",
    "for i in range(1,nums+1):\n",
    "    if nums % i == 0:\n",
    "        print(i,end=\" \")\n"
   ]
  },
  {
   "cell_type": "code",
   "execution_count": 5,
   "metadata": {},
   "outputs": [
    {
     "name": "stdout",
     "output_type": "stream",
     "text": [
      "num1的因數有:\n",
      "1\n",
      "2\n",
      "5\n",
      "10\n",
      "num2的因數有:\n",
      "1 3 公因數: 1 "
     ]
    }
   ],
   "source": [
    "#HW4\n",
    "num1 = int(input(\"輸入第一個數:\"))\n",
    "num2 = int(input(\"輸入第二個數:\"))\n",
    "print(\"num1的因數有:\")\n",
    "for i in range(1,num1+1):\n",
    "   if num1 % i == 0:\n",
    "      print(i)\n",
    "print(\"num2的因數有:\")\n",
    "for m in range(1,num2+1):\n",
    "   if num2 % m == 0:\n",
    "     print(m,end=\" \")\n",
    "for i in range(1,min(i,m)+1):\n",
    "   if num1 % i == 0 and num2 % i == 0:\n",
    "      print(\"公因數:\",i,end=' ')\n",
    " \n"
   ]
  },
  {
   "cell_type": "code",
   "execution_count": 41,
   "metadata": {},
   "outputs": [
    {
     "name": "stdout",
     "output_type": "stream",
     "text": [
      "1*1=1 1*2=2 1*3=3 1*4=4 1*5=5 1*6=6 1*7=7 1*8=8 1*9=9 \n",
      "2*1=2 2*2=4 2*3=6 2*4=8 2*5=10 2*6=12 2*7=14 2*8=16 2*9=18 \n",
      "3*1=3 3*2=6 3*3=9 3*4=12 3*5=15 3*6=18 3*7=21 3*8=24 3*9=27 \n",
      "4*1=4 4*2=8 4*3=12 4*4=16 4*5=20 4*6=24 4*7=28 4*8=32 4*9=36 \n",
      "5*1=5 5*2=10 5*3=15 5*4=20 5*5=25 5*6=30 5*7=35 5*8=40 5*9=45 \n",
      "6*1=6 6*2=12 6*3=18 6*4=24 6*5=30 6*6=36 6*7=42 6*8=48 6*9=54 \n",
      "7*1=7 7*2=14 7*3=21 7*4=28 7*5=35 7*6=42 7*7=49 7*8=56 7*9=63 \n",
      "8*1=8 8*2=16 8*3=24 8*4=32 8*5=40 8*6=48 8*7=56 8*8=64 8*9=72 \n",
      "9*1=9 9*2=18 9*3=27 9*4=36 9*5=45 9*6=54 9*7=63 9*8=72 9*9=81 \n"
     ]
    }
   ],
   "source": [
    "for i in range(1,10):\n",
    "    for j in range(1,10):\n",
    "        print(f'{i}*{j}={i*j}',end=' ')\n",
    "    print()"
   ]
  },
  {
   "cell_type": "code",
   "execution_count": null,
   "metadata": {},
   "outputs": [],
   "source": [
    "for i in range(1,10):\n",
    "    print(f\"i={i}\")\n",
    "    "
   ]
  },
  {
   "cell_type": "code",
   "execution_count": 24,
   "metadata": {},
   "outputs": [
    {
     "data": {
      "text/plain": [
       "50"
      ]
     },
     "execution_count": 24,
     "metadata": {},
     "output_type": "execute_result"
    }
   ],
   "source": [
    "num1=50\n",
    "num2=20\n",
    "if num1>num2:\n",
    "    max=num1\n",
    "else:\n",
    "    max=num2\n",
    "max"
   ]
  },
  {
   "cell_type": "code",
   "execution_count": 5,
   "metadata": {},
   "outputs": [
    {
     "name": "stdout",
     "output_type": "stream",
     "text": [
      "你的獎金為0元\n"
     ]
    }
   ],
   "source": [
    "chi=eval(input(\"輸入中文成績:\"))\n",
    "math=eval(input(\"輸入數學成績\"))\n",
    "if chi and math == 100:\n",
    "   bonus = 1000\n",
    "elif chi or math ==100:\n",
    "   bonus = 500\n",
    "else:\n",
    "   bonus = 0\n",
    "print(f\"你的獎金為{bonus}元\")"
   ]
  }
 ],
 "metadata": {
  "kernelspec": {
   "display_name": "Python 3",
   "language": "python",
   "name": "python3"
  },
  "language_info": {
   "codemirror_mode": {
    "name": "ipython",
    "version": 3
   },
   "file_extension": ".py",
   "mimetype": "text/x-python",
   "name": "python",
   "nbconvert_exporter": "python",
   "pygments_lexer": "ipython3",
   "version": "3.11.9"
  }
 },
 "nbformat": 4,
 "nbformat_minor": 2
}
