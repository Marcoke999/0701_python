{
 "cells": [
  {
   "cell_type": "code",
   "execution_count": 6,
   "metadata": {},
   "outputs": [
    {
     "name": "stdout",
     "output_type": "stream",
     "text": [
      "39\n",
      "2\n"
     ]
    }
   ],
   "source": [
    "def myFuntion(x,y):\n",
    "    result= x**2 * y**2 + x / 3 + y\n",
    "    return round(result,2)\n",
    "print(myFuntion(3,2))\n",
    "print(myFuntion(1,1))\n"
   ]
  },
  {
   "cell_type": "code",
   "execution_count": null,
   "metadata": {},
   "outputs": [],
   "source": [
    "import random\n",
    "\n",
    "def play_game():\n",
    "    min = 1\n",
    "    max = 100\n",
    "    target = random.randint(min, max)\n",
    "    print(target)\n",
    "    print(\"===========猜數字遊戲============\\n\")\n",
    "    count = 0\n",
    "\n",
    "    while True:\n",
    "        \n",
    "        try:\n",
    "            keyin = int(input(f\"猜數字範圍{min}~{max}:\"))\n",
    "            count += 1\n",
    "        except:\n",
    "            print(\"格式錯誤\")     # 輸入錯誤不算次數\n",
    "            continue\n",
    "\n",
    "        if keyin < min or keyin > max:\n",
    "            print(\"超過範圍\")        \n",
    "            continue\n",
    "\n",
    "        \n",
    "\n",
    "        if keyin == target:\n",
    "            print(f\"賓果!猜對了, 答案是:{keyin}\")\n",
    "            print(f\"您猜了{count}次\")\n",
    "            break\n",
    "        elif keyin > target:\n",
    "            print(\"再小一點\")\n",
    "            max = keyin - 1\n",
    "            \n",
    "        elif keyin < target:\n",
    "            print(\"再大一點\")\n",
    "            min = keyin + 1\n",
    "        print(f\"您已經猜了{count}次\")\n",
    "\n",
    "while True:\n",
    "    play_game()  \n",
    "    play = input(\"是否繼續(y/n)\")\n",
    "    if play == \"n\":\n",
    "        break       \n",
    "print(\"應用程式結束\")"
   ]
  },
  {
   "cell_type": "code",
   "execution_count": 14,
   "metadata": {},
   "outputs": [],
   "source": [
    "def menu(wine,main,desert):\n",
    "    print(f\"酒類:{wine}\")\n",
    "    print(f\"主菜:{main}\")\n",
    "    print(f\"甜點:{desert}\")\n",
    "    \n"
   ]
  },
  {
   "cell_type": "code",
   "execution_count": 19,
   "metadata": {},
   "outputs": [
    {
     "name": "stdout",
     "output_type": "stream",
     "text": [
      "請輸入數字:'45a' is not a number.\n",
      "請輸入數字:45\n"
     ]
    }
   ],
   "source": [
    "import pyinputplus as pyip\n",
    "value = pyip.inputNum(\"請輸入數字:\")\n",
    "print(value)"
   ]
  },
  {
   "cell_type": "code",
   "execution_count": 6,
   "metadata": {},
   "outputs": [
    {
     "name": "stdout",
     "output_type": "stream",
     "text": [
      "請輸入姓名：Blank values are not allowed.\n",
      "請輸入姓名：Blank values are not allowed.\n",
      "請輸入姓名：請輸入身高(cm)：'17s' is not a number.\n",
      "請輸入身高(cm)：'s' is not a number.\n",
      "請輸入身高(cm)：請輸入體重(kg)：s你好\n",
      "    身高是：176公分\n",
      "    體重是：63公斤\n",
      "    BMI:20.34\n",
      "    體重正常\n",
      "應用程式結束\n"
     ]
    }
   ],
   "source": [
    "#HW8\n",
    "import pyinputplus as pyip\n",
    "\n",
    "while True:       \n",
    "    name = pyip.inputStr(\"請輸入姓名：\")\n",
    "    height = pyip.inputNum(\"請輸入身高(cm)：\")\n",
    "    weight = pyip.inputNum(\"請輸入體重(kg)：\")\n",
    "    bmi = weight/(height/100) ** 2\n",
    "    if bmi >= 35:\n",
    "        status = '重度肥胖'\n",
    "    elif bmi >= 30:\n",
    "        status = '中度肥胖'\n",
    "    elif bmi >= 27:\n",
    "        status = '輕度肥胖'\n",
    "    elif bmi >= 24:\n",
    "        status = '體重過重'\n",
    "    elif bmi >= 18.5:\n",
    "        status = '體重正常'\n",
    "    else:\n",
    "        status = '體重過輕'\n",
    "    print(f\"\"\"{name}你好\n",
    "    身高是：{height}公分\n",
    "    體重是：{weight}公斤\n",
    "    BMI:{round(bmi,ndigits=2)}\n",
    "    {status}\"\"\")\n",
    "\n",
    "    \n",
    "    answer=input(\"離開(q)or繼續(c)\")\n",
    "    if answer==\"q\":\n",
    "        break\n",
    "    \n",
    "        \n",
    "print(\"應用程式結束\")\n",
    "        \n",
    "\n",
    " \n",
    "    \n",
    "        \n"
   ]
  },
  {
   "cell_type": "code",
   "execution_count": 1,
   "metadata": {},
   "outputs": [
    {
     "name": "stdout",
     "output_type": "stream",
     "text": [
      "請輸入姓名:Blank values are not allowed.\n",
      "請輸入姓名:d\n",
      "請輸入身高(cm)Blank values are not allowed.\n",
      "請輸入身高(cm)'d' is not a number.\n",
      "請輸入身高(cm)'科' is not a number.\n",
      "請輸入身高(cm)16\n",
      "請輸入體重(kg)176\n",
      "d您好\n",
      "    身高是:16公分\n",
      "    體重是:176公斤\n",
      "    BMI:6875.0\n",
      "體重過重\n",
      "continue? escape press N, continue press Y'63' is not a valid yes/no response.\n",
      "continue? escape press N, continue press Y'63' is not a valid yes/no response.\n",
      "continue? escape press N, continue press Y\n",
      "\n",
      "應用程式結束\n"
     ]
    }
   ],
   "source": [
    "import pyinputplus as pyip\n",
    "while True:\n",
    "    name=pyip.inputStr(\"請輸入姓名:\")\n",
    "    print(name)\n",
    "    height=pyip.inputNum(\"請輸入身高(cm)\")\n",
    "    print(height)\n",
    "    kilos=pyip.inputNum(\"請輸入體重(kg)\")\n",
    "    print(kilos)\n",
    "    BMI=kilos/(height/100)**2\n",
    "    print(f\"\"\"{name}您好\n",
    "    身高是:{height}公分\n",
    "    體重是:{kilos}公斤\n",
    "    BMI:{BMI}\"\"\")\n",
    "    if BMI<18.5:\n",
    "            print(\"體重過輕\")   \n",
    "    elif BMI<24:\n",
    "        print(\"體重適中\")\n",
    "    else:\n",
    "        print(\"體重過重\")\n",
    "    x=pyip.inputYesNo(\"continue? escape press N, continue press Y\")\n",
    "    print()\n",
    "    if x==\"no\":\n",
    "        break\n",
    "print()\n",
    "print(\"應用程式結束\")"
   ]
  },
  {
   "cell_type": "code",
   "execution_count": 15,
   "metadata": {},
   "outputs": [
    {
     "name": "stdout",
     "output_type": "stream",
     "text": [
      "酒類:白酒\n",
      "主菜:牛排\n",
      "甜點:奶酪\n"
     ]
    }
   ],
   "source": [
    "menu(\"白酒\",\"牛排\",\"奶酪\")"
   ]
  },
  {
   "cell_type": "code",
   "execution_count": 18,
   "metadata": {},
   "outputs": [
    {
     "name": "stdout",
     "output_type": "stream",
     "text": [
      "酒類:烤雞\n",
      "主菜:葡萄酒\n",
      "甜點:北海道生蠔\n"
     ]
    }
   ],
   "source": [
    "menu(\"烤雞\",\"葡萄酒\",desert=\"北海道生蠔\")"
   ]
  },
  {
   "cell_type": "code",
   "execution_count": 13,
   "metadata": {},
   "outputs": [
    {
     "name": "stdout",
     "output_type": "stream",
     "text": [
      "酒類:香檳\n",
      "主菜:牛排\n",
      "甜點:布丁\n",
      "=================================\n",
      "酒類:紅酒\n",
      "主菜:松露義大利麵\n",
      "甜點:容顏巧顆粒\n"
     ]
    }
   ],
   "source": [
    "menu(\"香檳\",main=\"牛排\",desert=\"布丁\")\n",
    "print(\"=================================\")\n",
    "menu(\"紅酒\",\"松露義大利麵\",\"容顏巧顆粒\")"
   ]
  }
 ],
 "metadata": {
  "kernelspec": {
   "display_name": "Python 3",
   "language": "python",
   "name": "python3"
  },
  "language_info": {
   "codemirror_mode": {
    "name": "ipython",
    "version": 3
   },
   "file_extension": ".py",
   "mimetype": "text/x-python",
   "name": "python",
   "nbconvert_exporter": "python",
   "pygments_lexer": "ipython3",
   "version": "3.11.9"
  }
 },
 "nbformat": 4,
 "nbformat_minor": 2
}
