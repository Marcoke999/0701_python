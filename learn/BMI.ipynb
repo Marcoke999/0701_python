{
 "cells": [
  {
   "cell_type": "code",
   "execution_count": 9,
   "metadata": {},
   "outputs": [
    {
     "name": "stdout",
     "output_type": "stream",
     "text": [
      "5\n"
     ]
    }
   ],
   "source": [
    "sum=0\n",
    "point=3\n",
    "for i in range(point):\n",
    "    student_point =int(input('請輸入第'+str(i+1) +':'))\n",
    "    sum += student_point\n",
    "print(sum)"
   ]
  },
  {
   "cell_type": "code",
   "execution_count": 15,
   "metadata": {},
   "outputs": [
    {
     "name": "stdout",
     "output_type": "stream",
     "text": [
      "你好4\n",
      "哈囉4\n",
      "可悲\n",
      "abs\n",
      "sd\n"
     ]
    }
   ],
   "source": [
    "x=input(\"輸入你的名稱\")\n",
    "print(f\"你好{x}\\n哈囉{x}\\n可悲\")\n"
   ]
  },
  {
   "cell_type": "code",
   "execution_count": 35,
   "metadata": {},
   "outputs": [
    {
     "ename": "SyntaxError",
     "evalue": "Missing parentheses in call to 'print'. Did you mean print(...)? (3845284598.py, line 2)",
     "output_type": "error",
     "traceback": [
      "\u001b[0;36m  Cell \u001b[0;32mIn[35], line 2\u001b[0;36m\u001b[0m\n\u001b[0;31m    print i\u001b[0m\n\u001b[0m    ^\u001b[0m\n\u001b[0;31mSyntaxError\u001b[0m\u001b[0;31m:\u001b[0m Missing parentheses in call to 'print'. Did you mean print(...)?\n"
     ]
    }
   ],
   "source": [
    "print(\"apple\",2,3,sep='-',end='.')"
   ]
  },
  {
   "cell_type": "code",
   "execution_count": 41,
   "metadata": {},
   "outputs": [
    {
     "name": "stdout",
     "output_type": "stream",
     "text": [
      "0\n",
      "1\n",
      "2\n",
      "3\n",
      "4\n",
      "5\n",
      "6\n",
      "7\n",
      "8\n",
      "9\n",
      "a\n"
     ]
    }
   ],
   "source": [
    "for i in range(10):\n",
    "    print(i)\n",
    "print(\"a\")"
   ]
  },
  {
   "cell_type": "code",
   "execution_count": 44,
   "metadata": {},
   "outputs": [
    {
     "name": "stdout",
     "output_type": "stream",
     "text": [
      "我有一隻1\n",
      "一台1\n"
     ]
    }
   ],
   "source": [
    "animal=input(\"輸入動物:\")\n",
    "car=input(\"輸入你的車\")\n",
    "print(f\"我有一隻{animal}\\n一台{car}\")\n"
   ]
  },
  {
   "cell_type": "code",
   "execution_count": 9,
   "metadata": {},
   "outputs": [
    {
     "name": "stdout",
     "output_type": "stream",
     "text": [
      "1\n",
      "122\n"
     ]
    }
   ],
   "source": [
    "message=\"\"\n",
    "message+=(input(\"輸入1:\"))\n",
    "print(message)\n",
    "message+=(input(\"輸入2:\"))\n",
    "message+=(input(\"輸入3:\"))\n",
    "print(message)"
   ]
  },
  {
   "cell_type": "code",
   "execution_count": 56,
   "metadata": {},
   "outputs": [
    {
     "name": "stdout",
     "output_type": "stream",
     "text": [
      "半徑為1,面積為:3.1\n"
     ]
    }
   ],
   "source": [
    "r=int(input(\"輸入半徑為:\"))\n",
    "area=r**2*3.1415926\n",
    "print(f\"半徑為{r},面積為:{area:.1f}\")"
   ]
  },
  {
   "cell_type": "code",
   "execution_count": 2,
   "metadata": {},
   "outputs": [
    {
     "name": "stdout",
     "output_type": "stream",
     "text": [
      "dk你好，你的 BMI 是: 20.34\n"
     ]
    }
   ],
   "source": [
    "#HW1\n",
    "name = input(\"輸入你的姓名: \")\n",
    "h = eval(input(\"輸入身高(cm): \"))\n",
    "w = eval(input(\"輸入體重(kg): \"))\n",
    "\n",
    "h_in_meters = h / 100\n",
    "\n",
    "BMI = w / (h_in_meters ** 2)\n",
    "\n",
    "print(f\"{name}你好，你的 BMI 是: {BMI:.2f}\")\n",
    "\n"
   ]
  }
 ],
 "metadata": {
  "kernelspec": {
   "display_name": "Python 3",
   "language": "python",
   "name": "python3"
  },
  "language_info": {
   "codemirror_mode": {
    "name": "ipython",
    "version": 3
   },
   "file_extension": ".py",
   "mimetype": "text/x-python",
   "name": "python",
   "nbconvert_exporter": "python",
   "pygments_lexer": "ipython3",
   "version": "3.11.9"
  }
 },
 "nbformat": 4,
 "nbformat_minor": 2
}
