{
 "cells": [
  {
   "cell_type": "code",
   "execution_count": 1,
   "metadata": {},
   "outputs": [
    {
     "name": "stdout",
     "output_type": "stream",
     "text": [
      "斜邊為2對邊為1角度為30.0\n"
     ]
    }
   ],
   "source": [
    "import math\n",
    "a=eval(input(\"輸入斜邊長:\"))\n",
    "b=eval(input(\"輸入對邊長:\"))\n",
    "radian=math.asin(b / a)\n",
    "degree= math.degrees(radian)\n",
    "print(f\"斜邊為{a}對邊為{b}角度為{degree:.1f}\")\n",
    "\n"
   ]
  },
  {
   "cell_type": "code",
   "execution_count": 2,
   "metadata": {},
   "outputs": [
    {
     "name": "stdout",
     "output_type": "stream",
     "text": [
      "總和為28\n",
      "標準差為5.94418483337567\n",
      "變異數為35.333333333333336\n"
     ]
    }
   ],
   "source": [
    "import statistics\n",
    "x=[0,5,9,14]\n",
    "sum1=sum(x)\n",
    "std1=statistics.stdev(x)\n",
    "var1=statistics.variance(x)\n",
    "print(f\"總和為{sum1}\\n標準差為{std1}\\n變異數為{var1}\")"
   ]
  }
 ],
 "metadata": {
  "kernelspec": {
   "display_name": "Python 3",
   "language": "python",
   "name": "python3"
  },
  "language_info": {
   "codemirror_mode": {
    "name": "ipython",
    "version": 3
   },
   "file_extension": ".py",
   "mimetype": "text/x-python",
   "name": "python",
   "nbconvert_exporter": "python",
   "pygments_lexer": "ipython3",
   "version": "2.7.undefined"
  }
 },
 "nbformat": 4,
 "nbformat_minor": 2
}
